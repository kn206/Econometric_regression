{
 "cells": [
  {
   "cell_type": "code",
   "execution_count": 1,
   "metadata": {},
   "outputs": [
    {
     "name": "stdout",
     "output_type": "stream",
     "text": [
      "Loading required package: ggplot2\n",
      "Loading required package: ggplot2\n"
     ]
    },
    {
     "name": "stdout",
     "output_type": "stream",
     "text": [
      "Loading required package: tseries\n",
      "Installing package into ‘C:/Users/NYONGESA/AppData/Local/R/win-library/4.4’\n",
      "(as ‘lib’ is unspecified)\n",
      "Loading required package: tseries\n",
      "Installing package into ‘C:/Users/NYONGESA/AppData/Local/R/win-library/4.4’\n",
      "(as ‘lib’ is unspecified)\n"
     ]
    },
    {
     "name": "stdout",
     "output_type": "stream",
     "text": [
      "also installing the dependencies ‘xts’, ‘TTR’, ‘quadprog’, ‘zoo’, ‘quantmod’\n",
      "\n",
      "also installing the dependencies ‘xts’, ‘TTR’, ‘quadprog’, ‘zoo’, ‘quantmod’\n",
      "\n"
     ]
    },
    {
     "name": "stderr",
     "output_type": "stream",
     "text": [
      "trying URL 'https://cran.rstudio.com/bin/windows/contrib/4.4/xts_0.14.0.zip'\n"
     ]
    },
    {
     "name": "stderr",
     "output_type": "stream",
     "text": [
      "Content type 'application/zip' length 842856 bytes (823 KB)\n"
     ]
    },
    {
     "name": "stderr",
     "output_type": "stream",
     "text": [
      "downloaded 823 KB\n",
      "\n"
     ]
    },
    {
     "name": "stderr",
     "output_type": "stream",
     "text": [
      "trying URL 'https://cran.rstudio.com/bin/windows/contrib/4.4/TTR_0.24.4.zip'\n"
     ]
    },
    {
     "name": "stderr",
     "output_type": "stream",
     "text": [
      "Content type 'application/zip' length 532876 bytes (520 KB)\n"
     ]
    },
    {
     "name": "stderr",
     "output_type": "stream",
     "text": [
      "downloaded 520 KB\n",
      "\n",
      "trying URL 'https://cran.rstudio.com/bin/windows/contrib/4.4/quadprog_1.5-8.zip'\n"
     ]
    },
    {
     "name": "stderr",
     "output_type": "stream",
     "text": [
      "Content type 'application/zip' length 37203 bytes (36 KB)\n"
     ]
    },
    {
     "name": "stderr",
     "output_type": "stream",
     "text": [
      "downloaded 36 KB\n",
      "\n",
      "trying URL 'https://cran.rstudio.com/bin/windows/contrib/4.4/zoo_1.8-12.zip'\n"
     ]
    },
    {
     "name": "stderr",
     "output_type": "stream",
     "text": [
      "Content type 'application/zip' length 1028553 bytes (1004 KB)\n"
     ]
    },
    {
     "name": "stderr",
     "output_type": "stream",
     "text": [
      "downloaded 1004 KB\n",
      "\n",
      "trying URL 'https://cran.rstudio.com/bin/windows/contrib/4.4/quantmod_0.4.26.zip'\n"
     ]
    },
    {
     "name": "stderr",
     "output_type": "stream",
     "text": [
      "Content type 'application/zip' length 1056557 bytes (1.0 MB)\n"
     ]
    },
    {
     "name": "stderr",
     "output_type": "stream",
     "text": [
      "downloaded 1.0 MB\n",
      "\n"
     ]
    },
    {
     "name": "stderr",
     "output_type": "stream",
     "text": [
      "trying URL 'https://cran.rstudio.com/bin/windows/contrib/4.4/tseries_0.10-56.zip'\n"
     ]
    },
    {
     "name": "stderr",
     "output_type": "stream",
     "text": [
      "Content type 'application/zip' length 385555 bytes (376 KB)\n"
     ]
    },
    {
     "name": "stderr",
     "output_type": "stream",
     "text": [
      "downloaded 376 KB\n",
      "\n"
     ]
    },
    {
     "name": "stdout",
     "output_type": "stream",
     "text": [
      "package ‘xts’ successfully unpacked and MD5 sums checked\n",
      "package ‘xts’ successfully unpacked and MD5 sums checked\n"
     ]
    },
    {
     "name": "stdout",
     "output_type": "stream",
     "text": [
      "package ‘TTR’ successfully unpacked and MD5 sums checked\n",
      "package ‘TTR’ successfully unpacked and MD5 sums checked\n"
     ]
    },
    {
     "name": "stdout",
     "output_type": "stream",
     "text": [
      "package ‘quadprog’ successfully unpacked and MD5 sums checked\n",
      "package ‘quadprog’ successfully unpacked and MD5 sums checked\n"
     ]
    },
    {
     "name": "stdout",
     "output_type": "stream",
     "text": [
      "package ‘zoo’ successfully unpacked and MD5 sums checked\n",
      "package ‘zoo’ successfully unpacked and MD5 sums checked\n"
     ]
    },
    {
     "name": "stdout",
     "output_type": "stream",
     "text": [
      "package ‘quantmod’ successfully unpacked and MD5 sums checked\n",
      "package ‘quantmod’ successfully unpacked and MD5 sums checked\n"
     ]
    },
    {
     "name": "stdout",
     "output_type": "stream",
     "text": [
      "package ‘tseries’ successfully unpacked and MD5 sums checked\n",
      "\n",
      "The downloaded binary packages are in\n",
      "\tC:\\Users\\NYONGESA\\AppData\\Local\\Temp\\RtmpqApEE0\\downloaded_packages\n",
      "package ‘tseries’ successfully unpacked and MD5 sums checked\n",
      "\n",
      "The downloaded binary packages are in\n",
      "\tC:\\Users\\NYONGESA\\AppData\\Local\\Temp\\RtmpqApEE0\\downloaded_packages\n"
     ]
    },
    {
     "name": "stderr",
     "output_type": "stream",
     "text": [
      "Warning message:\n",
      "In library(package, lib.loc = lib.loc, character.only = TRUE, logical.return = TRUE,  :\n",
      "  there is no package called ‘tseries’\n"
     ]
    }
   ],
   "source": [
    "# Load necessary libraries\n",
    "if (!require(\"ggplot2\")) install.packages(\"ggplot2\", dependencies=TRUE)\n",
    "if (!require(\"tseries\")) install.packages(\"tseries\", dependencies=TRUE)"
   ]
  },
  {
   "cell_type": "code",
   "execution_count": 1,
   "metadata": {},
   "outputs": [
    {
     "name": "stdout",
     "output_type": "stream",
     "text": [
      "Registered S3 method overwritten by 'quantmod':\n",
      "  method            from\n",
      "  as.zoo.data.frame zoo \n",
      "Registered S3 method overwritten by 'quantmod':\n",
      "  method            from\n",
      "  as.zoo.data.frame zoo \n"
     ]
    },
    {
     "name": "stdout",
     "output_type": "stream",
     "text": [
      "\n",
      "    ‘tseries’ version: 0.10-56\n",
      "\n",
      "    ‘tseries’ is a package for time series analysis and computational finance.\n",
      "\n",
      "    See ‘library(help=\"tseries\")’ for details.\n",
      "\n",
      "\n",
      "\n",
      "    ‘tseries’ version: 0.10-56\n",
      "\n",
      "    ‘tseries’ is a package for time series analysis and computational finance.\n",
      "\n",
      "    See ‘library(help=\"tseries\")’ for details.\n",
      "\n"
     ]
    },
    {
     "name": "stderr",
     "output_type": "stream",
     "text": [
      "Warning message:\n",
      "package ‘tseries’ was built under R version 4.4.1 \n"
     ]
    }
   ],
   "source": [
    "library(ggplot2)\n",
    "library(tseries)"
   ]
  },
  {
   "cell_type": "code",
   "execution_count": 2,
   "metadata": {},
   "outputs": [],
   "source": [
    "# Step 1: Generate Random Data\n",
    "set.seed(123)  # For reproducibility\n",
    "data <- rnorm(100)  # Generate 100 random numbers from a normal distribution\n"
   ]
  },
  {
   "cell_type": "code",
   "execution_count": 3,
   "metadata": {},
   "outputs": [],
   "source": [
    "# Plot Normal Q-Q Plot\n",
    "qqnorm(data)\n",
    "qqline(data, col = \"red\")"
   ]
  },
  {
   "cell_type": "code",
   "execution_count": 5,
   "metadata": {},
   "outputs": [
    {
     "name": "stdout",
     "output_type": "stream",
     "text": [
      "\n",
      "\tJarque Bera Test\n",
      "\n",
      "data:  data\n",
      "X-squared = 0.16908, df = 2, p-value = 0.9189\n",
      "\n",
      "\n",
      "\n",
      "\tJarque Bera Test\n",
      "\n",
      "data:  data\n",
      "X-squared = 0.16908, df = 2, p-value = 0.9189\n",
      "\n"
     ]
    }
   ],
   "source": [
    "# Perform Jarque-Bera Test\n",
    "jb_test <- jarque.bera.test(data)\n",
    "\n",
    "# Print the result of the Jarque-Bera test\n",
    "print(jb_test)"
   ]
  }
 ],
 "metadata": {
  "language_info": {
   "name": "r"
  }
 },
 "nbformat": 4,
 "nbformat_minor": 2
}
